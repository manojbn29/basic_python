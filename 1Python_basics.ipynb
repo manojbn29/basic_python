{
 "cells": [
  {
   "cell_type": "markdown",
   "metadata": {},
   "source": [
    "# To see the images first connect to internet\n",
    "1. Go to cell header and click on run all.\n",
    "2. Now you can see the images as well as the outputs.\n",
    "3. To clear the outputs go to cell--> All output --> Clear."
   ]
  },
  {
   "cell_type": "markdown",
   "metadata": {},
   "source": [
    "<a href=\"https://ibb.co/hqZ44H\"><img src=\"https://preview.ibb.co/fJyWjH/Corpnce_03.jpg\" alt=\"Corpnce_03\" border=\"0\"></a>"
   ]
  },
  {
   "cell_type": "markdown",
   "metadata": {},
   "source": [
    "## Python Basics: Class 1\n"
   ]
  },
  {
   "cell_type": "markdown",
   "metadata": {},
   "source": [
    "<font size = '4'> <b>   Why Python? </b>\n",
    "<font size=\"3\">\n",
    "1. More readable \n",
    "2. General purpose\n",
    "3. High level programming language\n",
    "4. Open Source with a strong developer community\n",
    "5. Supports both Procedure Oriented and Object Oriented Programming\n",
    "6. Used by GOOGLE, NETFLIX and DROBOX...."
   ]
  },
  {
   "cell_type": "markdown",
   "metadata": {},
   "source": [
    "<a href=\"https://ibb.co/d9pRJc\"><img src=\"https://preview.ibb.co/mbMHPH/Why_Python1.jpg\" alt=\"Why_Python1\" border=\"0\"></a>"
   ]
  },
  {
   "cell_type": "markdown",
   "metadata": {},
   "source": [
    "<font size = '4'> <b>  Recent Advancements in Python </b>\n",
    "<font size=\"3\">\n",
    "1. In August, 2017 Python overtakes R as the most preferred programming language by google trends\n",
    "2. 46% data science jobs list python as the required skill, after SQL!\n",
    "3. Python has surpassed Java as the top language, introducing US students to programming and computer science!\n",
    "4. By 2018, python Data Science demand will surpass supply by almost 60%.\n",
    "\n"
   ]
  },
  {
   "cell_type": "markdown",
   "metadata": {},
   "source": [
    "### Python Installation...."
   ]
  },
  {
   "cell_type": "markdown",
   "metadata": {},
   "source": [
    "<a href=\"https://imgbb.com/\"><img src=\"https://image.ibb.co/bwjFBx/index.jpg\" alt=\"index\" border=\"0\"></a>"
   ]
  },
  {
   "cell_type": "markdown",
   "metadata": {},
   "source": [
    "### What is this weird thing you're showing me? I want to run Python codes!\n"
   ]
  },
  {
   "cell_type": "markdown",
   "metadata": {},
   "source": [
    "### Enter Jupyter notebook!.....\n",
    "<font size = \"4\">\n",
    "1. Follows the Stanford practice of 'Literate Programming'\n",
    "2. Can run Python codes and see output line by line (very useful for debugging)\n",
    "3. Supports HTML (so that you can make the boring stuff look cool!)\n",
    "4. Runs using a browser, which means you can deploy Jupyter Notebook on a server and access from any web browser"
   ]
  },
  {
   "cell_type": "markdown",
   "metadata": {},
   "source": [
    "### Lets get started..."
   ]
  },
  {
   "cell_type": "markdown",
   "metadata": {},
   "source": [
    "Python Operators"
   ]
  },
  {
   "cell_type": "code",
   "execution_count": 1,
   "metadata": {},
   "outputs": [
    {
     "name": "stdout",
     "output_type": "stream",
     "text": [
      "7\n",
      "3\n",
      "10\n",
      "2.5\n",
      "2\n",
      "1\n",
      "25\n"
     ]
    }
   ],
   "source": [
    "#Arithmetic Operators (+,-,*,/)\n",
    "\n",
    "a = 5\n",
    "b = 2\n",
    "\n",
    "print(a + b)\n",
    "print(a - b)\n",
    "print(a * b)\n",
    "print(a / b)\n",
    "print(a // b)\n",
    "print(a % b)\n",
    "print(a ** b)"
   ]
  },
  {
   "cell_type": "raw",
   "metadata": {},
   "source": [
    "Every operator in python is a dunder method. Ex: here the + operator is a magic method or dunder method. The dunder methods have 2 underscores as prefix and 2 as suffix. \n",
    "\n",
    "+ --> __add__()\n",
    "- --> __sub__()\n",
    "* --> __mul__()\n",
    "\n",
    "some common dunder functions that we will use in future classes are __init__(), __str__(), __repr__() etc. \n"
   ]
  },
  {
   "cell_type": "code",
   "execution_count": 11,
   "metadata": {},
   "outputs": [
    {
     "name": "stdout",
     "output_type": "stream",
     "text": [
      "53\n",
      "8\n",
      "8.0\n",
      "2\n"
     ]
    }
   ],
   "source": [
    "# We can use __add__() dunder method to replace the + \n",
    "\n",
    "print('5'.__add__('3'))\n",
    "\n",
    "# print(5.__add__(3)) # This will throw error as 5. is treated as a float value\n",
    "\n",
    "# We can use brackets\n",
    "print((5).__add__(3))\n",
    "print(5..__add__(3)) # Here the result is converted to float values, not recommended\n",
    "print((5).__sub__(3)) # Dunder function for subtracion"
   ]
  },
  {
   "cell_type": "code",
   "execution_count": 22,
   "metadata": {},
   "outputs": [
    {
     "name": "stdout",
     "output_type": "stream",
     "text": [
      "1.0\n",
      "12\n"
     ]
    }
   ],
   "source": [
    "a = 5\n",
    "b = 2\n",
    "\n",
    "#Assignment\n",
    "a /= 5   #similar to a = a/5\n",
    "print(a)\n",
    "b += 10  #similar to b = b+10\n",
    "print(b)"
   ]
  },
  {
   "cell_type": "code",
   "execution_count": 1,
   "metadata": {},
   "outputs": [
    {
     "name": "stdout",
     "output_type": "stream",
     "text": [
      "False\n",
      "True\n",
      "False\n",
      "True\n"
     ]
    }
   ],
   "source": [
    "#Comparison (>,<,==,!=)\n",
    "a = 5\n",
    "b = 2\n",
    "\n",
    "print(a<b)\n",
    "print(a>b)\n",
    "print(a==b)\n",
    "print(a!=b)"
   ]
  },
  {
   "cell_type": "code",
   "execution_count": 27,
   "metadata": {},
   "outputs": [
    {
     "name": "stdout",
     "output_type": "stream",
     "text": [
      "False\n",
      "True\n",
      "False\n",
      "True\n"
     ]
    }
   ],
   "source": [
    "#Logical Operators (OR,AND)\n",
    "\n",
    "x = True\n",
    "y = False\n",
    "\n",
    "print(x and y)\n",
    "print(x or y)\n",
    "print(not x)\n",
    "print(not y)"
   ]
  },
  {
   "cell_type": "code",
   "execution_count": 2,
   "metadata": {},
   "outputs": [
    {
     "data": {
      "text/plain": [
       "5"
      ]
     },
     "execution_count": 2,
     "metadata": {},
     "output_type": "execute_result"
    }
   ],
   "source": [
    "8 and 5"
   ]
  },
  {
   "cell_type": "code",
   "execution_count": 4,
   "metadata": {},
   "outputs": [
    {
     "data": {
      "text/plain": [
       "0"
      ]
     },
     "execution_count": 4,
     "metadata": {},
     "output_type": "execute_result"
    }
   ],
   "source": [
    "False or 0"
   ]
  },
  {
   "cell_type": "code",
   "execution_count": 28,
   "metadata": {},
   "outputs": [
    {
     "name": "stdout",
     "output_type": "stream",
     "text": [
      "1\n",
      "7\n"
     ]
    }
   ],
   "source": [
    "#Bitwise Operators\n",
    "#Bitwise operator works on bits and performs bit by bit operation\n",
    "\n",
    "a = 5\n",
    "b = 3\n",
    "\n",
    "print(a & b)\n",
    "print(a | b)\n"
   ]
  },
  {
   "cell_type": "markdown",
   "metadata": {},
   "source": [
    "**We will use bit wise operators extensively in our pandas classes.**"
   ]
  },
  {
   "cell_type": "code",
   "execution_count": 5,
   "metadata": {},
   "outputs": [
    {
     "name": "stdout",
     "output_type": "stream",
     "text": [
      "False\n",
      "True\n",
      "True\n",
      "False\n"
     ]
    }
   ],
   "source": [
    "#Identity Operator\n",
    "a = 5.0\n",
    "b = 3\n",
    "\n",
    "print(a is 5)\n",
    "print(a is not 5)\n",
    "print(b is 3)\n",
    "print(b is not 3)"
   ]
  },
  {
   "cell_type": "code",
   "execution_count": 32,
   "metadata": {},
   "outputs": [
    {
     "name": "stdout",
     "output_type": "stream",
     "text": [
      "False\n",
      "True\n",
      "True\n"
     ]
    }
   ],
   "source": [
    "# Membership Operator\n",
    "x = [1, '2', 3, 4, 'ram']\n",
    "print(2 in x)\n",
    "print(10 not in x)\n",
    "y = 'hello'\n",
    "print('l' in y)"
   ]
  },
  {
   "cell_type": "markdown",
   "metadata": {},
   "source": [
    "### Basics Done..."
   ]
  },
  {
   "cell_type": "markdown",
   "metadata": {},
   "source": [
    "---------"
   ]
  },
  {
   "cell_type": "markdown",
   "metadata": {},
   "source": [
    "<font size = 3>Python Data Types"
   ]
  },
  {
   "cell_type": "markdown",
   "metadata": {},
   "source": [
    "<a href=\"https://ibb.co/hUViyc\"><img src=\"https://preview.ibb.co/n7GOyc/Python_examples_datatypes1.jpg\" alt=\"Python_examples_datatypes1\" border=\"0\"></a>"
   ]
  },
  {
   "cell_type": "markdown",
   "metadata": {},
   "source": [
    "List, Tuple and Dictionary are also called Containers"
   ]
  },
  {
   "cell_type": "markdown",
   "metadata": {},
   "source": [
    "#### Mutable vs Immutable"
   ]
  },
  {
   "cell_type": "markdown",
   "metadata": {},
   "source": [
    "<a href=\"https://ibb.co/dpGsPH\"><img src=\"https://preview.ibb.co/kPWgJc/Python_data_types1.jpg\" alt=\"Python_data_types1\" border=\"0\"></a>"
   ]
  },
  {
   "cell_type": "markdown",
   "metadata": {},
   "source": [
    "## **TUPLES**"
   ]
  },
  {
   "cell_type": "markdown",
   "metadata": {},
   "source": [
    "> This is the default container in python and immutable in nature. We use containers when we have more values than the variables."
   ]
  },
  {
   "cell_type": "code",
   "execution_count": 12,
   "metadata": {},
   "outputs": [
    {
     "name": "stdout",
     "output_type": "stream",
     "text": [
      "1\n"
     ]
    }
   ],
   "source": [
    "# When we have same no of values and variables, each variable takes the respective values\n",
    "x, y, z = 1, 2, 3\n",
    "print(x)"
   ]
  },
  {
   "cell_type": "code",
   "execution_count": 16,
   "metadata": {},
   "outputs": [
    {
     "name": "stdout",
     "output_type": "stream",
     "text": [
      "(1, 2, 3)\n",
      "(2, 3)\n"
     ]
    }
   ],
   "source": [
    "# If we have more values, it will be stored inside a container\n",
    "x = 1, 2, 3\n",
    "print(x) # Round brackets represents a tuple\n",
    "\n",
    "# y, z = 1 , 2, 3 # This will throw error\n",
    "\n",
    "y, z = 1, (2, 3)\n",
    "print(z)"
   ]
  },
  {
   "cell_type": "code",
   "execution_count": 1,
   "metadata": {},
   "outputs": [
    {
     "name": "stdout",
     "output_type": "stream",
     "text": [
      "6\n",
      "6\n"
     ]
    }
   ],
   "source": [
    "# We can access the values inside the container by indexing\n",
    "# Python indexing starts from 0\n",
    "\n",
    "x = (4, 5, 6)\n",
    "print(x[2])\n",
    "\n",
    "# This [ ] is which we used for indexing is also a dunder function i.e. __getitem__()\n",
    "print(x.__getitem__(2))"
   ]
  },
  {
   "cell_type": "code",
   "execution_count": 2,
   "metadata": {},
   "outputs": [
    {
     "ename": "TypeError",
     "evalue": "'tuple' object does not support item assignment",
     "output_type": "error",
     "traceback": [
      "\u001b[1;31m---------------------------------------------------------------------------\u001b[0m",
      "\u001b[1;31mTypeError\u001b[0m                                 Traceback (most recent call last)",
      "\u001b[1;32m<ipython-input-2-aecff24f38a8>\u001b[0m in \u001b[0;36m<module>\u001b[1;34m\u001b[0m\n\u001b[0;32m      3\u001b[0m \u001b[0mx\u001b[0m \u001b[1;33m=\u001b[0m \u001b[1;33m(\u001b[0m\u001b[1;36m4\u001b[0m\u001b[1;33m,\u001b[0m \u001b[1;36m5\u001b[0m\u001b[1;33m,\u001b[0m \u001b[1;36m6\u001b[0m\u001b[1;33m)\u001b[0m \u001b[1;31m# Tuple\u001b[0m\u001b[1;33m\u001b[0m\u001b[1;33m\u001b[0m\u001b[0m\n\u001b[0;32m      4\u001b[0m \u001b[1;33m\u001b[0m\u001b[0m\n\u001b[1;32m----> 5\u001b[1;33m \u001b[0mx\u001b[0m\u001b[1;33m[\u001b[0m\u001b[1;36m1\u001b[0m\u001b[1;33m]\u001b[0m \u001b[1;33m=\u001b[0m \u001b[1;36m8\u001b[0m \u001b[1;31m# This will throw error\u001b[0m\u001b[1;33m\u001b[0m\u001b[1;33m\u001b[0m\u001b[0m\n\u001b[0m",
      "\u001b[1;31mTypeError\u001b[0m: 'tuple' object does not support item assignment"
     ]
    }
   ],
   "source": [
    "# Tuples are immutable. i.e. we can't change the value of a tuple dynamically\n",
    "\n",
    "x = (4, 5, 6) # Tuple\n",
    "\n",
    "x[1] = 8 # This will throw error"
   ]
  },
  {
   "cell_type": "code",
   "execution_count": 4,
   "metadata": {},
   "outputs": [
    {
     "name": "stdout",
     "output_type": "stream",
     "text": [
      "(1, 2, 3, 4, 5, 6)\n"
     ]
    }
   ],
   "source": [
    "# Concatenation\n",
    "\n",
    "x = (1, 2, 3)\n",
    "y = (4, 5, 6)\n",
    "\n",
    "print(x+y)\n",
    "\n",
    "\n",
    "# # (1) + (2, 3) # throw error\n",
    "\n",
    "# print(type((1))) # Because (1) is an integer, not a tuple\n",
    "\n",
    "# (1,) + (2, 3) # Making a tuple with one element"
   ]
  },
  {
   "cell_type": "code",
   "execution_count": 28,
   "metadata": {},
   "outputs": [
    {
     "name": "stdout",
     "output_type": "stream",
     "text": [
      "(1, 2, 4, 1, 2, 4)\n"
     ]
    }
   ],
   "source": [
    "# Extends the tuple\n",
    "\n",
    "x = (1, 2, 4)\n",
    "print(x * 2)"
   ]
  },
  {
   "cell_type": "markdown",
   "metadata": {},
   "source": [
    "> Slicing is a common technique that we will use all the times in our work.\n",
    "\n",
    "Syntax : variable_name[start_index : end_index : stepsize]\n",
    "\n",
    "**Starting index is inclusive and end index is exclusive**"
   ]
  },
  {
   "cell_type": "code",
   "execution_count": 12,
   "metadata": {},
   "outputs": [
    {
     "name": "stdout",
     "output_type": "stream",
     "text": [
      "The first element of x is 1\n",
      "The last element of x is 6\n",
      "(1, 2)\n",
      "(1, 2, 3, 4, 5, 6)\n",
      "(2, 3, 4)\n",
      "(2, 4)\n"
     ]
    }
   ],
   "source": [
    "x = 1, 2, 3, 4, 5, 6\n",
    "\n",
    "print(f'The first element of x is {x[0]}') # Python indexing starts from 0\n",
    "print(f'The last element of x is {x[-1]}') # Python indexing in reverse way starts from -1 \n",
    "print(x[0:2]) # Prints the 0th and 1st index , here index 2 is exclusive\n",
    "print(x[:]) # It will print all the elements as no start and end position is mentioned\n",
    "print(x[1:-2]) # We can also combine the forward and backward index\n",
    "print(x[1:-1:2]) # The third index is called as the step size\n",
    "\n",
    "# Stepsize decides how many index to skip\n",
    "# Stepsize of 2 means jump one index or skip one element"
   ]
  },
  {
   "cell_type": "code",
   "execution_count": 11,
   "metadata": {},
   "outputs": [
    {
     "data": {
      "text/plain": [
       "(6, 5, 4, 3, 2, 1)"
      ]
     },
     "execution_count": 11,
     "metadata": {},
     "output_type": "execute_result"
    }
   ],
   "source": [
    "# We can also use the same logic to reverse the tuple\n",
    "# Here the stepsize is -1, and start and end index is not passed\n",
    "x[::-1]"
   ]
  },
  {
   "cell_type": "markdown",
   "metadata": {},
   "source": [
    "> In the next notebook we will learn more about other data types such as lists, strings, sets and dictionaries"
   ]
  }
 ],
 "metadata": {
  "kernelspec": {
   "display_name": "Python 3",
   "language": "python",
   "name": "python3"
  },
  "language_info": {
   "codemirror_mode": {
    "name": "ipython",
    "version": 3
   },
   "file_extension": ".py",
   "mimetype": "text/x-python",
   "name": "python",
   "nbconvert_exporter": "python",
   "pygments_lexer": "ipython3",
   "version": "3.7.4"
  }
 },
 "nbformat": 4,
 "nbformat_minor": 4
}
